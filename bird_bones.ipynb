{
  "nbformat": 4,
  "nbformat_minor": 0,
  "metadata": {
    "colab": {
      "name": "bird-bones.ipynb",
      "provenance": [],
      "collapsed_sections": [],
      "authorship_tag": "ABX9TyOrU1r4Cr1URJVFESeOxfOE"
    },
    "kernelspec": {
      "name": "python3",
      "display_name": "Python 3"
    },
    "language_info": {
      "name": "python"
    }
  },
  "cells": [
    {
      "cell_type": "code",
      "execution_count": 2,
      "metadata": {
        "colab": {
          "base_uri": "https://localhost:8080/",
          "height": 17
        },
        "id": "bKiSaHKJjUy1",
        "outputId": "02ab462e-fac6-427b-97de-408cddea8ce4"
      },
      "outputs": [
        {
          "output_type": "display_data",
          "data": {
            "text/html": [
              "        <script type=\"text/javascript\">\n",
              "        window.PlotlyConfig = {MathJaxConfig: 'local'};\n",
              "        if (window.MathJax) {MathJax.Hub.Config({SVG: {font: \"STIX-Web\"}});}\n",
              "        if (typeof require !== 'undefined') {\n",
              "        require.undef(\"plotly\");\n",
              "        requirejs.config({\n",
              "            paths: {\n",
              "                'plotly': ['https://cdn.plot.ly/plotly-2.8.3.min']\n",
              "            }\n",
              "        });\n",
              "        require(['plotly'], function(Plotly) {\n",
              "            window._Plotly = Plotly;\n",
              "        });\n",
              "        }\n",
              "        </script>\n",
              "        "
            ]
          },
          "metadata": {}
        }
      ],
      "source": [
        "# Import plotly offline\n",
        "import plotly\n",
        "plotly.offline.init_notebook_mode(connected=True)\n",
        "import plotly.graph_objs as go\n",
        "import numpy as np\n",
        "import pandas as pd\n",
        "\n",
        "# Import pandas\n",
        "import pandas as pd"
      ]
    },
    {
      "cell_type": "code",
      "source": [
        "# Import machine learning libraries\n",
        "# Import everything we need.\n",
        "import csv\n",
        "import matplotlib.pyplot as plt\n",
        "from sklearn.model_selection import train_test_split\n",
        "from sklearn.naive_bayes import GaussianNB\n",
        "from sklearn.metrics import accuracy_score"
      ],
      "metadata": {
        "id": "KtM15blFX2gL"
      },
      "execution_count": 3,
      "outputs": []
    },
    {
      "cell_type": "code",
      "source": [
        "# Import data through github link\n",
        "# https://raw.githubusercontent.com/bendbir/bird_bones/main/bird.csv\n",
        "\n",
        "url = 'https://raw.githubusercontent.com/bendbir/bird_bones/main/bird.csv'\n",
        "birds_data = pd.read_csv(url, low_memory=False)\n",
        "# Dataset is now stored in a Pandas Dataframe"
      ],
      "metadata": {
        "id": "Cx_1j4AVjevG"
      },
      "execution_count": 81,
      "outputs": []
    },
    {
      "cell_type": "markdown",
      "source": [
        "Dataset obtained from Kaggle: https://www.kaggle.com/datasets/zhangjuefei/birds-bones-and-living-habits"
      ],
      "metadata": {
        "id": "m1HQTlnjj82J"
      }
    },
    {
      "cell_type": "code",
      "source": [
        "print (birds_data.head())"
      ],
      "metadata": {
        "colab": {
          "base_uri": "https://localhost:8080/"
        },
        "id": "iZENeKXujxw6",
        "outputId": "71bcbb01-cafd-4622-ef8a-e493a3e6d989"
      },
      "execution_count": 54,
      "outputs": [
        {
          "output_type": "stream",
          "name": "stdout",
          "text": [
            "   id   huml  humw  ulnal  ulnaw   feml  femw   tibl  tibw   tarl  tarw type\n",
            "0   0  80.78  6.68  72.01   4.88  41.81  3.70   5.50  4.03  38.70  3.84   SW\n",
            "1   1  88.91  6.63  80.53   5.59  47.04  4.30  80.22  4.51  41.50  4.01   SW\n",
            "2   2  79.97  6.37  69.26   5.28  43.07  3.90  75.35  4.04  38.31  3.34   SW\n",
            "3   3  77.65  5.70  65.76   4.77  40.04  3.52  69.17  3.40  35.78  3.41   SW\n",
            "4   4  62.80  4.84  52.09   3.73  33.95  2.72  56.27  2.96  31.88  3.13   SW\n"
          ]
        }
      ]
    },
    {
      "cell_type": "code",
      "source": [
        "# Print description ('.describe()') of data\n",
        "birds_data.describe()"
      ],
      "metadata": {
        "id": "IG6q1DSrjzYU",
        "colab": {
          "base_uri": "https://localhost:8080/",
          "height": 297
        },
        "outputId": "23485c16-3919-4ace-98ec-c18bdcdc5382"
      },
      "execution_count": 55,
      "outputs": [
        {
          "output_type": "execute_result",
          "data": {
            "text/plain": [
              "               id        huml        humw       ulnal       ulnaw        feml  \\\n",
              "count  420.000000  419.000000  419.000000  417.000000  418.000000  418.000000   \n",
              "mean   209.500000   64.650501    4.370573   69.115372    3.597249   36.872416   \n",
              "std    121.387808   53.834549    2.854617   58.784775    2.186747   19.979082   \n",
              "min      0.000000    9.850000    1.140000   14.090000    1.000000   11.830000   \n",
              "25%    104.750000   25.170000    2.190000   28.050000    1.870000   21.297500   \n",
              "50%    209.500000   44.180000    3.500000   43.710000    2.945000   31.130000   \n",
              "75%    314.250000   90.310000    5.810000   97.520000    4.770000   47.120000   \n",
              "max    419.000000  420.000000   17.840000  422.000000   12.000000  117.070000   \n",
              "\n",
              "             femw        tibl        tibw        tarl        tarw  \n",
              "count  419.000000  418.000000  419.000000  419.000000  419.000000  \n",
              "mean     3.220883   64.662823    3.182339   39.229976    2.930024  \n",
              "std      2.023581   37.838145    2.080827   23.184313    2.185673  \n",
              "min      0.930000    5.500000    0.870000    7.770000    0.660000  \n",
              "25%      1.715000   36.417500    1.565000   23.035000    1.425000  \n",
              "50%      2.520000   52.120000    2.490000   31.740000    2.230000  \n",
              "75%      4.135000   82.870000    4.255000   50.250000    3.500000  \n",
              "max     11.640000  240.000000   11.030000  175.000000   14.090000  "
            ],
            "text/html": [
              "\n",
              "  <div id=\"df-f783bf13-fe22-46c9-b251-994c56e3a16f\">\n",
              "    <div class=\"colab-df-container\">\n",
              "      <div>\n",
              "<style scoped>\n",
              "    .dataframe tbody tr th:only-of-type {\n",
              "        vertical-align: middle;\n",
              "    }\n",
              "\n",
              "    .dataframe tbody tr th {\n",
              "        vertical-align: top;\n",
              "    }\n",
              "\n",
              "    .dataframe thead th {\n",
              "        text-align: right;\n",
              "    }\n",
              "</style>\n",
              "<table border=\"1\" class=\"dataframe\">\n",
              "  <thead>\n",
              "    <tr style=\"text-align: right;\">\n",
              "      <th></th>\n",
              "      <th>id</th>\n",
              "      <th>huml</th>\n",
              "      <th>humw</th>\n",
              "      <th>ulnal</th>\n",
              "      <th>ulnaw</th>\n",
              "      <th>feml</th>\n",
              "      <th>femw</th>\n",
              "      <th>tibl</th>\n",
              "      <th>tibw</th>\n",
              "      <th>tarl</th>\n",
              "      <th>tarw</th>\n",
              "    </tr>\n",
              "  </thead>\n",
              "  <tbody>\n",
              "    <tr>\n",
              "      <th>count</th>\n",
              "      <td>420.000000</td>\n",
              "      <td>419.000000</td>\n",
              "      <td>419.000000</td>\n",
              "      <td>417.000000</td>\n",
              "      <td>418.000000</td>\n",
              "      <td>418.000000</td>\n",
              "      <td>419.000000</td>\n",
              "      <td>418.000000</td>\n",
              "      <td>419.000000</td>\n",
              "      <td>419.000000</td>\n",
              "      <td>419.000000</td>\n",
              "    </tr>\n",
              "    <tr>\n",
              "      <th>mean</th>\n",
              "      <td>209.500000</td>\n",
              "      <td>64.650501</td>\n",
              "      <td>4.370573</td>\n",
              "      <td>69.115372</td>\n",
              "      <td>3.597249</td>\n",
              "      <td>36.872416</td>\n",
              "      <td>3.220883</td>\n",
              "      <td>64.662823</td>\n",
              "      <td>3.182339</td>\n",
              "      <td>39.229976</td>\n",
              "      <td>2.930024</td>\n",
              "    </tr>\n",
              "    <tr>\n",
              "      <th>std</th>\n",
              "      <td>121.387808</td>\n",
              "      <td>53.834549</td>\n",
              "      <td>2.854617</td>\n",
              "      <td>58.784775</td>\n",
              "      <td>2.186747</td>\n",
              "      <td>19.979082</td>\n",
              "      <td>2.023581</td>\n",
              "      <td>37.838145</td>\n",
              "      <td>2.080827</td>\n",
              "      <td>23.184313</td>\n",
              "      <td>2.185673</td>\n",
              "    </tr>\n",
              "    <tr>\n",
              "      <th>min</th>\n",
              "      <td>0.000000</td>\n",
              "      <td>9.850000</td>\n",
              "      <td>1.140000</td>\n",
              "      <td>14.090000</td>\n",
              "      <td>1.000000</td>\n",
              "      <td>11.830000</td>\n",
              "      <td>0.930000</td>\n",
              "      <td>5.500000</td>\n",
              "      <td>0.870000</td>\n",
              "      <td>7.770000</td>\n",
              "      <td>0.660000</td>\n",
              "    </tr>\n",
              "    <tr>\n",
              "      <th>25%</th>\n",
              "      <td>104.750000</td>\n",
              "      <td>25.170000</td>\n",
              "      <td>2.190000</td>\n",
              "      <td>28.050000</td>\n",
              "      <td>1.870000</td>\n",
              "      <td>21.297500</td>\n",
              "      <td>1.715000</td>\n",
              "      <td>36.417500</td>\n",
              "      <td>1.565000</td>\n",
              "      <td>23.035000</td>\n",
              "      <td>1.425000</td>\n",
              "    </tr>\n",
              "    <tr>\n",
              "      <th>50%</th>\n",
              "      <td>209.500000</td>\n",
              "      <td>44.180000</td>\n",
              "      <td>3.500000</td>\n",
              "      <td>43.710000</td>\n",
              "      <td>2.945000</td>\n",
              "      <td>31.130000</td>\n",
              "      <td>2.520000</td>\n",
              "      <td>52.120000</td>\n",
              "      <td>2.490000</td>\n",
              "      <td>31.740000</td>\n",
              "      <td>2.230000</td>\n",
              "    </tr>\n",
              "    <tr>\n",
              "      <th>75%</th>\n",
              "      <td>314.250000</td>\n",
              "      <td>90.310000</td>\n",
              "      <td>5.810000</td>\n",
              "      <td>97.520000</td>\n",
              "      <td>4.770000</td>\n",
              "      <td>47.120000</td>\n",
              "      <td>4.135000</td>\n",
              "      <td>82.870000</td>\n",
              "      <td>4.255000</td>\n",
              "      <td>50.250000</td>\n",
              "      <td>3.500000</td>\n",
              "    </tr>\n",
              "    <tr>\n",
              "      <th>max</th>\n",
              "      <td>419.000000</td>\n",
              "      <td>420.000000</td>\n",
              "      <td>17.840000</td>\n",
              "      <td>422.000000</td>\n",
              "      <td>12.000000</td>\n",
              "      <td>117.070000</td>\n",
              "      <td>11.640000</td>\n",
              "      <td>240.000000</td>\n",
              "      <td>11.030000</td>\n",
              "      <td>175.000000</td>\n",
              "      <td>14.090000</td>\n",
              "    </tr>\n",
              "  </tbody>\n",
              "</table>\n",
              "</div>\n",
              "      <button class=\"colab-df-convert\" onclick=\"convertToInteractive('df-f783bf13-fe22-46c9-b251-994c56e3a16f')\"\n",
              "              title=\"Convert this dataframe to an interactive table.\"\n",
              "              style=\"display:none;\">\n",
              "        \n",
              "  <svg xmlns=\"http://www.w3.org/2000/svg\" height=\"24px\"viewBox=\"0 0 24 24\"\n",
              "       width=\"24px\">\n",
              "    <path d=\"M0 0h24v24H0V0z\" fill=\"none\"/>\n",
              "    <path d=\"M18.56 5.44l.94 2.06.94-2.06 2.06-.94-2.06-.94-.94-2.06-.94 2.06-2.06.94zm-11 1L8.5 8.5l.94-2.06 2.06-.94-2.06-.94L8.5 2.5l-.94 2.06-2.06.94zm10 10l.94 2.06.94-2.06 2.06-.94-2.06-.94-.94-2.06-.94 2.06-2.06.94z\"/><path d=\"M17.41 7.96l-1.37-1.37c-.4-.4-.92-.59-1.43-.59-.52 0-1.04.2-1.43.59L10.3 9.45l-7.72 7.72c-.78.78-.78 2.05 0 2.83L4 21.41c.39.39.9.59 1.41.59.51 0 1.02-.2 1.41-.59l7.78-7.78 2.81-2.81c.8-.78.8-2.07 0-2.86zM5.41 20L4 18.59l7.72-7.72 1.47 1.35L5.41 20z\"/>\n",
              "  </svg>\n",
              "      </button>\n",
              "      \n",
              "  <style>\n",
              "    .colab-df-container {\n",
              "      display:flex;\n",
              "      flex-wrap:wrap;\n",
              "      gap: 12px;\n",
              "    }\n",
              "\n",
              "    .colab-df-convert {\n",
              "      background-color: #E8F0FE;\n",
              "      border: none;\n",
              "      border-radius: 50%;\n",
              "      cursor: pointer;\n",
              "      display: none;\n",
              "      fill: #1967D2;\n",
              "      height: 32px;\n",
              "      padding: 0 0 0 0;\n",
              "      width: 32px;\n",
              "    }\n",
              "\n",
              "    .colab-df-convert:hover {\n",
              "      background-color: #E2EBFA;\n",
              "      box-shadow: 0px 1px 2px rgba(60, 64, 67, 0.3), 0px 1px 3px 1px rgba(60, 64, 67, 0.15);\n",
              "      fill: #174EA6;\n",
              "    }\n",
              "\n",
              "    [theme=dark] .colab-df-convert {\n",
              "      background-color: #3B4455;\n",
              "      fill: #D2E3FC;\n",
              "    }\n",
              "\n",
              "    [theme=dark] .colab-df-convert:hover {\n",
              "      background-color: #434B5C;\n",
              "      box-shadow: 0px 1px 3px 1px rgba(0, 0, 0, 0.15);\n",
              "      filter: drop-shadow(0px 1px 2px rgba(0, 0, 0, 0.3));\n",
              "      fill: #FFFFFF;\n",
              "    }\n",
              "  </style>\n",
              "\n",
              "      <script>\n",
              "        const buttonEl =\n",
              "          document.querySelector('#df-f783bf13-fe22-46c9-b251-994c56e3a16f button.colab-df-convert');\n",
              "        buttonEl.style.display =\n",
              "          google.colab.kernel.accessAllowed ? 'block' : 'none';\n",
              "\n",
              "        async function convertToInteractive(key) {\n",
              "          const element = document.querySelector('#df-f783bf13-fe22-46c9-b251-994c56e3a16f');\n",
              "          const dataTable =\n",
              "            await google.colab.kernel.invokeFunction('convertToInteractive',\n",
              "                                                     [key], {});\n",
              "          if (!dataTable) return;\n",
              "\n",
              "          const docLinkHtml = 'Like what you see? Visit the ' +\n",
              "            '<a target=\"_blank\" href=https://colab.research.google.com/notebooks/data_table.ipynb>data table notebook</a>'\n",
              "            + ' to learn more about interactive tables.';\n",
              "          element.innerHTML = '';\n",
              "          dataTable['output_type'] = 'display_data';\n",
              "          await google.colab.output.renderOutput(dataTable, element);\n",
              "          const docLink = document.createElement('div');\n",
              "          docLink.innerHTML = docLinkHtml;\n",
              "          element.appendChild(docLink);\n",
              "        }\n",
              "      </script>\n",
              "    </div>\n",
              "  </div>\n",
              "  "
            ]
          },
          "metadata": {},
          "execution_count": 55
        }
      ]
    },
    {
      "cell_type": "code",
      "source": [
        "data_types = birds_data.dtypes\n",
        "print(\"data types:\")\n",
        "print(data_types)"
      ],
      "metadata": {
        "colab": {
          "base_uri": "https://localhost:8080/"
        },
        "id": "KAiBrkrCU8KS",
        "outputId": "416399e3-e92f-46d0-8194-7131355389e3"
      },
      "execution_count": 82,
      "outputs": [
        {
          "output_type": "stream",
          "name": "stdout",
          "text": [
            "data types:\n",
            "id         int64\n",
            "huml     float64\n",
            "humw     float64\n",
            "ulnal    float64\n",
            "ulnaw    float64\n",
            "feml     float64\n",
            "femw     float64\n",
            "tibl     float64\n",
            "tibw     float64\n",
            "tarl     float64\n",
            "tarw     float64\n",
            "type      object\n",
            "dtype: object\n"
          ]
        }
      ]
    },
    {
      "cell_type": "code",
      "source": [
        "# first, drop type and id.  Type needs to be dropped since object won't let us use np.isnan()\n",
        "birds_data_test = birds_data.drop(['id', 'type'], axis = 1)\n",
        "\n",
        "# Test for NaN\n",
        "np.where(np.isnan(birds_data_test))"
      ],
      "metadata": {
        "colab": {
          "base_uri": "https://localhost:8080/"
        },
        "id": "aghVH6bzSVWU",
        "outputId": "4231753b-3092-4a35-c6a1-feda06950cff"
      },
      "execution_count": 83,
      "outputs": [
        {
          "output_type": "execute_result",
          "data": {
            "text/plain": [
              "(array([160, 160, 204, 204, 207, 207, 342, 342, 342, 342, 378, 378, 378,\n",
              "        396, 404]), array([4, 5, 2, 3, 8, 9, 0, 1, 2, 3, 2, 6, 7, 6, 4]))"
            ]
          },
          "metadata": {},
          "execution_count": 83
        }
      ]
    },
    {
      "cell_type": "code",
      "source": [
        "# If interested, look at row to confirm NaN\n",
        "# print(DATAFRAME.iloc[ROW])\n",
        "\n",
        "# Drop NaNs from original dataframe\n",
        "birds_data2 = birds_data.dropna()\n",
        "\n",
        "# Test again for NaN, confirm there aren't any\n",
        "birds_data_test = birds_data2.drop(['id', 'type'], axis = 1)\n",
        "np.where(np.isnan(birds_data_test))"
      ],
      "metadata": {
        "colab": {
          "base_uri": "https://localhost:8080/"
        },
        "id": "BSqsLkhxSsdn",
        "outputId": "b594bca9-8700-453b-dce6-21a426626e3a"
      },
      "execution_count": 85,
      "outputs": [
        {
          "output_type": "execute_result",
          "data": {
            "text/plain": [
              "(array([], dtype=int64), array([], dtype=int64))"
            ]
          },
          "metadata": {},
          "execution_count": 85
        }
      ]
    },
    {
      "cell_type": "code",
      "source": [
        "# Define feature and target dataframes\n",
        "# Can we predict bird based on all metrics?\n",
        "\n",
        "# birdTypeInput is what we input to predict bird type.  Drop id and type since we don't need those.\n",
        "birdTypeInput = birds_data2.drop(['type'], axis = 1)\n",
        "\n",
        "# Define target label, in this case 'id'\n",
        "birdTargetLabel = birds_data2[['type']].copy()"
      ],
      "metadata": {
        "id": "me-omerpWAEx"
      },
      "execution_count": 86,
      "outputs": []
    },
    {
      "cell_type": "code",
      "source": [
        "# Use train_test_split, create input_train, input_test, label_train, label_test\n",
        "input_train, input_test, label_train, label_test = train_test_split(birdTypeInput, birdTargetLabel, stratify = birdTargetLabel)"
      ],
      "metadata": {
        "id": "yEuUpRkUXyxH"
      },
      "execution_count": 87,
      "outputs": []
    },
    {
      "cell_type": "code",
      "source": [
        "# Test that the keys match for training dataframes\n",
        "print (input_train.head())\n",
        "print (label_train.head())"
      ],
      "metadata": {
        "id": "x35qRMsDZyH1",
        "colab": {
          "base_uri": "https://localhost:8080/"
        },
        "outputId": "80676099-574b-43f4-89dd-931931143255"
      },
      "execution_count": 88,
      "outputs": [
        {
          "output_type": "stream",
          "name": "stdout",
          "text": [
            "      id    huml  humw   ulnal  ulnaw   feml  femw    tibl  tibw   tarl  tarw\n",
            "226  226   83.02  5.95   96.97   4.38  51.87  4.21   66.60  4.06  36.60  5.63\n",
            "306  306   15.97  1.47   19.91   1.32  15.11  1.24   25.99  1.14  18.36  1.40\n",
            "238  238  117.43  7.13  136.26   5.51  75.54  5.85  115.30  5.45  59.45  8.25\n",
            "151  151   82.30  4.88   95.09   4.34  37.39  3.02   75.34  3.19  50.06  2.38\n",
            "176  176   33.20  2.11   34.31   2.25  20.36  1.57   37.95  1.42  23.67  1.26\n",
            "    type\n",
            "226    R\n",
            "306   SO\n",
            "238    R\n",
            "151    W\n",
            "176    W\n"
          ]
        }
      ]
    },
    {
      "cell_type": "code",
      "source": [
        "# Test that shapes are correct\n",
        "# Trains and tests should match number of rows\n",
        "print(input_train.shape)\n",
        "print(input_test.shape)\n",
        "print(label_train.shape)\n",
        "print(label_test.shape)"
      ],
      "metadata": {
        "colab": {
          "base_uri": "https://localhost:8080/"
        },
        "id": "txd62SNVIfUH",
        "outputId": "e44bd683-4ce5-4871-f98f-36a88ec53e93"
      },
      "execution_count": 89,
      "outputs": [
        {
          "output_type": "stream",
          "name": "stdout",
          "text": [
            "(309, 11)\n",
            "(104, 11)\n",
            "(309, 1)\n",
            "(104, 1)\n"
          ]
        }
      ]
    },
    {
      "cell_type": "code",
      "source": [
        "# make your model! \n",
        "gnb = GaussianNB()\n",
        "gnb.fit(input_train, label_train)\n",
        "bird_bone_pred = gnb.predict(input_test)"
      ],
      "metadata": {
        "colab": {
          "base_uri": "https://localhost:8080/"
        },
        "id": "LQ2YbLZ0IqHQ",
        "outputId": "2fdb8df9-7f86-4ac8-ccff-fd57941d2973"
      },
      "execution_count": 90,
      "outputs": [
        {
          "output_type": "stream",
          "name": "stderr",
          "text": [
            "/usr/local/lib/python3.7/dist-packages/sklearn/utils/validation.py:993: DataConversionWarning:\n",
            "\n",
            "A column-vector y was passed when a 1d array was expected. Please change the shape of y to (n_samples, ), for example using ravel().\n",
            "\n"
          ]
        }
      ]
    },
    {
      "cell_type": "code",
      "source": [
        "# How well did our model do?\n",
        "# find the accuracy score.\n",
        "print(\"Gaussian Naive Bayes accuracy:\", round((accuracy_score(label_test, bird_bone_pred)*100),2))"
      ],
      "metadata": {
        "colab": {
          "base_uri": "https://localhost:8080/"
        },
        "id": "fe-scMuZXH-r",
        "outputId": "c67cb466-7e96-49a8-c81e-b1c5fd2d57f2"
      },
      "execution_count": 91,
      "outputs": [
        {
          "output_type": "stream",
          "name": "stdout",
          "text": [
            "Gaussian Naive Bayes accuracy: 76.92\n"
          ]
        }
      ]
    },
    {
      "cell_type": "code",
      "source": [
        "# Let's take a look at the confusion matrix.\n",
        "# Import confusion matrix\n",
        "from sklearn.metrics import classification_report\n",
        "from sklearn.metrics import confusion_matrix"
      ],
      "metadata": {
        "id": "DspPwTNYXdXm"
      },
      "execution_count": 92,
      "outputs": []
    },
    {
      "cell_type": "code",
      "source": [
        "# Generate the confusion matrix and classification report\n",
        "print (\"THIS IS THE CONFUSION MATRIX:\")\n",
        "print(confusion_matrix(label_test, bird_bone_pred))\n",
        "print (\"THIS IS THE CLASSIFICATION REPORT:\")\n",
        "print(classification_report(label_test, bird_bone_pred))"
      ],
      "metadata": {
        "colab": {
          "base_uri": "https://localhost:8080/"
        },
        "id": "yHr9IGPYX8uK",
        "outputId": "26f10bd1-471a-4d6e-fc60-265373c86941"
      },
      "execution_count": 93,
      "outputs": [
        {
          "output_type": "stream",
          "name": "stdout",
          "text": [
            "THIS IS THE CONFUSION MATRIX:\n",
            "[[ 6  0  4  0  0  0]\n",
            " [ 3  9  0  0  0  0]\n",
            " [ 4  0 27  0  0  0]\n",
            " [ 0  0  0 25  0  4]\n",
            " [ 0  0  0  0  3  3]\n",
            " [ 0  0  3  3  0 10]]\n",
            "THIS IS THE CLASSIFICATION REPORT:\n",
            "              precision    recall  f1-score   support\n",
            "\n",
            "           P       0.46      0.60      0.52        10\n",
            "           R       1.00      0.75      0.86        12\n",
            "          SO       0.79      0.87      0.83        31\n",
            "          SW       0.89      0.86      0.88        29\n",
            "           T       1.00      0.50      0.67         6\n",
            "           W       0.59      0.62      0.61        16\n",
            "\n",
            "    accuracy                           0.77       104\n",
            "   macro avg       0.79      0.70      0.73       104\n",
            "weighted avg       0.79      0.77      0.77       104\n",
            "\n"
          ]
        }
      ]
    },
    {
      "cell_type": "code",
      "source": [
        ""
      ],
      "metadata": {
        "id": "hyfkSUcjYFHI"
      },
      "execution_count": null,
      "outputs": []
    }
  ]
}